{
 "cells": [
  {
   "attachments": {},
   "cell_type": "markdown",
   "metadata": {},
   "source": [
    "# Cuaderno de jupyter para extraer parte del dataset original, ya que es muy grande y contiene algnos datos que no necesito"
   ]
  },
  {
   "attachments": {},
   "cell_type": "markdown",
   "metadata": {},
   "source": [
    "## Importación de librerias"
   ]
  },
  {
   "cell_type": "code",
   "execution_count": 1,
   "metadata": {},
   "outputs": [],
   "source": [
    "import pandas as pd # tratamiento de archivos csv mediante dataframes\n",
    "import os # acceso a archivos del sistema\n",
    "from mutagen.mp3 import MP3 # se ven los metadatos de los archivos de audio para saber su duracion (mucho mas apido que librosa.load)\n",
    "import shutil # utilizada para copiar y mover archivos"
   ]
  },
  {
   "cell_type": "code",
   "execution_count": 2,
   "metadata": {},
   "outputs": [
    {
     "name": "stdout",
     "output_type": "stream",
     "text": [
      "('dev.tsv', '..\\\\..\\\\..\\\\Datasets\\\\cv-corpus-12.0-2022-12-07-es\\\\cv-corpus-12.0-2022-12-07\\\\es\\\\dev.tsv')\n",
      "('invalidated.tsv', '..\\\\..\\\\..\\\\Datasets\\\\cv-corpus-12.0-2022-12-07-es\\\\cv-corpus-12.0-2022-12-07\\\\es\\\\invalidated.tsv')\n",
      "('other.tsv', '..\\\\..\\\\..\\\\Datasets\\\\cv-corpus-12.0-2022-12-07-es\\\\cv-corpus-12.0-2022-12-07\\\\es\\\\other.tsv')\n",
      "('reported.tsv', '..\\\\..\\\\..\\\\Datasets\\\\cv-corpus-12.0-2022-12-07-es\\\\cv-corpus-12.0-2022-12-07\\\\es\\\\reported.tsv')\n",
      "('test.tsv', '..\\\\..\\\\..\\\\Datasets\\\\cv-corpus-12.0-2022-12-07-es\\\\cv-corpus-12.0-2022-12-07\\\\es\\\\test.tsv')\n",
      "('train.tsv', '..\\\\..\\\\..\\\\Datasets\\\\cv-corpus-12.0-2022-12-07-es\\\\cv-corpus-12.0-2022-12-07\\\\es\\\\train.tsv')\n",
      "('trainMas5.csv', '..\\\\..\\\\..\\\\Datasets\\\\cv-corpus-12.0-2022-12-07-es\\\\cv-corpus-12.0-2022-12-07\\\\es\\\\trainMas5.csv')\n",
      "('validated.tsv', '..\\\\..\\\\..\\\\Datasets\\\\cv-corpus-12.0-2022-12-07-es\\\\cv-corpus-12.0-2022-12-07\\\\es\\\\validated.tsv')\n"
     ]
    }
   ],
   "source": [
    "# Ruta al dataset descargado de mozilla\n",
    "rutaDataset = '..\\\\..\\\\..\\\\Datasets\\\\cv-corpus-12.0-2022-12-07-es\\\\cv-corpus-12.0-2022-12-07\\\\es'\n",
    "# Ruta a la carpeta del dataset que contiene los audios\n",
    "rutaAudios = os.path.join(rutaDataset, \"clips\")\n",
    "# Ruta en la cual se van a almacenar los audios extraidos para preprocesar y realizar el entrenamiento de la red\n",
    "rutaDestinoEntrenamiento = \"../audios/audiosEntrenamiento\"\n",
    "# Ruta en la cual se van a almacenar los audios extraidos para preprocesar y realizar los test de la red\n",
    "rutaDestinoTest = \"../audios/audiosTest\"\n",
    "\n",
    "# Se ven los archivos .tsv del dataset, para obtener sus datos\n",
    "archivosTsv = []\n",
    "for component in os.listdir(rutaDataset):\n",
    "    if os.path.isfile(os.path.join(rutaDataset, component)):\n",
    "        archivosTsv.append((component, os.path.join(rutaDataset, component)))\n",
    "\n",
    "for archivo in archivosTsv:\n",
    "    print(archivo)"
   ]
  },
  {
   "cell_type": "code",
   "execution_count": 3,
   "metadata": {},
   "outputs": [],
   "source": [
    "def cargarCSV(ruta):\n",
    "    # De las columnas del archivo solo se cargan el id y el genero del cliente y la ruta al audio, el resto no lo necesito\n",
    "    archivo = pd.read_csv(ruta[1], low_memory=False, sep=\"\\t\", header=0).loc[:, ('client_id', 'path', 'gender')]\n",
    "    # Se eliminan los valores NaN\n",
    "    archivo = archivo.dropna()\n",
    "    # Se eliminan los valores que no sean 'male' o 'female' en el genero\n",
    "    archivo = archivo[archivo['gender'].isin(['male', 'female'])]\n",
    "    print(f'Cantidad de filas utiles del archivo {ruta[0]}: {len(archivo)}')\n",
    "\n",
    "    return archivo"
   ]
  },
  {
   "cell_type": "code",
   "execution_count": 4,
   "metadata": {},
   "outputs": [],
   "source": [
    "def eliminarAudiosMenos5Seg(rutaAudios, rutaDestino, dataframe, nombre, inicio, cantidadRegistros):\n",
    "    fila = 0\n",
    "    if cantidadRegistros == 0:\n",
    "        cantidadRegistros = len(dataframe)\n",
    "\n",
    "    print(f'Recorriendo dataframe: {nombre}')\n",
    "\n",
    "    for audio in dataframe.iloc[inicio:cantidadRegistros]['path']: # Se recorre cada archivo de audio\n",
    "        \n",
    "        if os.path.join(rutaAudios, audio).endswith('.mp3'):\n",
    "            duracion_segundos = MP3(os.path.join(rutaAudios, audio)).info.length\n",
    "\n",
    "            # Si el archivo dura 5 o mas segundos, se considera valido para entrenar la red y se copia a la carpeta destino\n",
    "            if duracion_segundos >= 5:\n",
    "                shutil.copy(os.path.join(rutaAudios, audio), os.path.join(rutaDestino, audio))\n",
    "            else: # Si no, se elimina del dataframe, ya que este se utilizara mas adelante\n",
    "                dataframe = dataframe.drop(dataframe[dataframe['path']==audio].index)\n",
    "        \n",
    "        fila+= 1\n",
    "        print(fila, end=\"\\r\")\n",
    "\n",
    "    # Se reinician los indices, para que vayan ordenados sin hueco entre ellos\n",
    "    dataframe.reset_index(inplace = True, drop = True)\n",
    "    \n",
    "    return dataframe"
   ]
  },
  {
   "cell_type": "code",
   "execution_count": 5,
   "metadata": {},
   "outputs": [],
   "source": [
    "def crearCsv(dataframe, audiosCarpetaDestino, nombreCSV, inicio, cantidadRegistros):\n",
    "    datos = {'client_id': [], 'path': [], 'gender': []}\n",
    "\n",
    "    if cantidadRegistros == 0:\n",
    "        cantidadRegistros = len(dataframe)\n",
    "\n",
    "    for i in range(inicio, cantidadRegistros):\n",
    "        if(dataframe.iloc[i]['path'] in audiosCarpetaDestino):\n",
    "            datos['client_id'].append(dataframe.iloc[i]['client_id'])\n",
    "            datos['path'].append(dataframe.iloc[i]['path'])\n",
    "            datos['gender'].append(dataframe.iloc[i]['gender'])\n",
    "\n",
    "    pd.DataFrame(datos).to_csv(nombreCSV, header=True, index=False)"
   ]
  },
  {
   "cell_type": "code",
   "execution_count": 6,
   "metadata": {},
   "outputs": [
    {
     "name": "stdout",
     "output_type": "stream",
     "text": [
      "Cantidad de filas utiles del archivo test.tsv: 3029\n",
      "Cantidad de filas utiles del archivo train.tsv: 234509\n",
      "Cantidad de filas utiles del archivo validated.tsv: 267103\n"
     ]
    }
   ],
   "source": [
    "testTsv = cargarCSV(archivosTsv[4])\n",
    "trainTsv = cargarCSV(archivosTsv[5])\n",
    "validatedTsv = cargarCSV(archivosTsv[7])"
   ]
  },
  {
   "cell_type": "code",
   "execution_count": 7,
   "metadata": {},
   "outputs": [
    {
     "name": "stdout",
     "output_type": "stream",
     "text": [
      "Recorriendo dataframe: train.tsv\n",
      "Recorriendo dataframe: validated.tsv\n",
      "Recorriendo dataframe: test.tsv\n"
     ]
    }
   ],
   "source": [
    "trainTsv = eliminarAudiosMenos5Seg(rutaAudios, rutaDestinoEntrenamiento, trainTsv, archivosTsv[5][0], 0, 0)\n",
    "validatedTsv = eliminarAudiosMenos5Seg(rutaAudios, rutaDestinoEntrenamiento, validatedTsv, archivosTsv[7][0], 0, 0)\n",
    "testTsv = eliminarAudiosMenos5Seg(rutaAudios, rutaDestinoTest, testTsv, archivosTsv[4][0], 0, 0)"
   ]
  },
  {
   "cell_type": "code",
   "execution_count": 8,
   "metadata": {},
   "outputs": [],
   "source": [
    "audiosValidosEntrenamiento = os.listdir(rutaDestinoEntrenamiento)\n",
    "audiosValidosTest = os.listdir(rutaDestinoTest)"
   ]
  },
  {
   "cell_type": "code",
   "execution_count": null,
   "metadata": {},
   "outputs": [],
   "source": [
    "crearCsv(trainTsv, audiosValidosEntrenamiento, \"../csv/archivoTrain.csv\", 0, 0)\n",
    "crearCsv(validatedTsv, audiosValidosEntrenamiento, \"../csv/archivoValidated.csv\", 0, 0)\n",
    "crearCsv(testTsv, audiosValidosTest, \"../csv/archivoTest.csv\", 0, 0)"
   ]
  }
 ],
 "metadata": {
  "kernelspec": {
   "display_name": "base",
   "language": "python",
   "name": "python3"
  },
  "language_info": {
   "codemirror_mode": {
    "name": "ipython",
    "version": 3
   },
   "file_extension": ".py",
   "mimetype": "text/x-python",
   "name": "python",
   "nbconvert_exporter": "python",
   "pygments_lexer": "ipython3",
   "version": "3.9.7"
  },
  "orig_nbformat": 4
 },
 "nbformat": 4,
 "nbformat_minor": 2
}
