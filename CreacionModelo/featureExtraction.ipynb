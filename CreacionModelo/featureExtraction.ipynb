{
 "cells": [
  {
   "cell_type": "code",
   "execution_count": 1,
   "metadata": {},
   "outputs": [],
   "source": [
    "import os\n",
    "import librosa\n",
    "import random\n",
    "import json\n",
    "import numpy as np"
   ]
  },
  {
   "cell_type": "code",
   "execution_count": 2,
   "metadata": {},
   "outputs": [],
   "source": [
    "def crearDiccionarioVacio():\n",
    "    return {\"ID\": [],\"MFCCDD\": [], \"ZCR\": []}"
   ]
  },
  {
   "cell_type": "code",
   "execution_count": 3,
   "metadata": {},
   "outputs": [],
   "source": [
    "def crearJson(nombreArchivo, datos):\n",
    "    with open(nombreArchivo, \"w\") as fp:\n",
    "        json.dump(datos, fp, indent=4)\n",
    "    print(\"Archivo json creado\")"
   ]
  },
  {
   "cell_type": "code",
   "execution_count": 4,
   "metadata": {},
   "outputs": [],
   "source": [
    "def partirAudio(signal, longitudPartes, tam_ventana):\n",
    "    partes = []\n",
    "    # Inicio de ms en el segmento de audio\n",
    "    inicio = 0\n",
    "    # Fin de ms en el segmento de audio\n",
    "    fin = longitudPartes\n",
    "    # Si fin < longitu del audio, se puede seguir partiendo en trozos\n",
    "    while(fin<len(signal)):\n",
    "        partes.append(signal[inicio:fin])\n",
    "        \n",
    "        inicio = fin-tam_ventana # Se reestablecen los valores de ms de inicio y fin del segmento\n",
    "        fin = fin+longitudPartes-tam_ventana\n",
    "    \n",
    "    if len(signal)-inicio > longitudPartes/2: # Si al terminar queda algo de audio aprovechable, se crea un ultimo segmento\n",
    "        partes.append(signal[len(signal)-longitudPartes-tam_ventana:len(signal)-tam_ventana])\n",
    "\n",
    "    return partes"
   ]
  },
  {
   "cell_type": "code",
   "execution_count": 5,
   "metadata": {},
   "outputs": [],
   "source": [
    "def extraerFeatures(clientes, ruta, inicioSignal, cantidadSamples, hop_length, n_mfcc, n_fft):\n",
    "\n",
    "    diccionario = crearDiccionarioVacio()\n",
    "    longitudTrozos = int(inicioSignal/2) # le doy 0.25 seg en este caso\n",
    "\n",
    "    contador = 1\n",
    "\n",
    "    for cliente in clientes:\n",
    "\n",
    "        for audio in os.listdir(os.path.join(ruta, cliente)):\n",
    "\n",
    "            signal, sr = librosa.load(os.path.join(ruta, cliente, audio))\n",
    "\n",
    "            #Se elimina el 'silencio'\n",
    "            signal, _ = librosa.effects.trim(signal)\n",
    "\n",
    "            trozos = partirAudio(signal, longitudTrozos, int(cantidadSamples/10)) # se parte en trozos de 0.25seg cada uno con una ventana de 10ms   (antes era /5 para 20 ms)\n",
    "\n",
    "            for trozo in trozos: # se recorre cada uno de los segementos del archivo de audio obtenidos antes \n",
    "                # extraccion zero crossing rate\n",
    "                zcr = librosa.feature.zero_crossing_rate(trozo)\n",
    "                \n",
    "                # extraccion de MFCCs de cada segmento del archivo de audio\n",
    "                mfccs = librosa.feature.mfcc(y=trozo, n_mfcc=n_mfcc, hop_length=hop_length, n_fft=n_fft)\n",
    "                \n",
    "                delta_mfccs = librosa.feature.delta(mfccs) # obtencion primer delta de los mfcc\n",
    "                delta2_mfccs = librosa.feature.delta(mfccs, order=2) # obtencion segundo delta\n",
    "                mfccs_features = np.concatenate((mfccs, delta_mfccs, delta2_mfccs))\n",
    "\n",
    "                diccionario['ID'].append(cliente)#.split(\"_\")[0])\n",
    "                diccionario[\"MFCCDD\"].append(mfccs_features.T.tolist())\n",
    "                diccionario[\"ZCR\"].append(zcr.tolist())\n",
    "\n",
    "                        \n",
    "        print(f'{contador}: {cliente}', end=\"\\r\")\n",
    "        contador += 1\n",
    "\n",
    "    print(\"Diccionario creado\")\n",
    "    return diccionario"
   ]
  },
  {
   "cell_type": "code",
   "execution_count": 6,
   "metadata": {},
   "outputs": [],
   "source": [
    "def cantidadAudiosFinalesSexo(clientes, ruta, categoriaAudios):\n",
    "    cant = []\n",
    "    cantidadMujeres = 0\n",
    "    cantidadHombres = 0\n",
    "\n",
    "    for c in clientes:\n",
    "        cant.append((len(os.listdir(os.path.join(ruta, c))), c.split(\"_\")[1]))\n",
    "\n",
    "\n",
    "    for c in cant:\n",
    "        if c[1] == 'H':\n",
    "            cantidadHombres+=c[0]\n",
    "        else:\n",
    "            cantidadMujeres+=c[0]\n",
    "    \n",
    "    print(f'Una vez contados los audios de {categoriaAudios}, hay {cantidadHombres} audios de hombres y {cantidadMujeres} de mujeres')"
   ]
  },
  {
   "cell_type": "code",
   "execution_count": 8,
   "metadata": {},
   "outputs": [],
   "source": [
    "rutaEntrenamiento = '../audios/seleccionEntrenamiento'\n",
    "rutaRefuerzo = '../audios/seleccionRefuerzo'\n",
    "\n",
    "UN_SEGUNDO_SAMPLES = 22050\n",
    "inicioSignal = int(UN_SEGUNDO_SAMPLES/2) # medio segundo\n",
    "jsonTrainFile1 = \"..\\\\Json\\\\espTrainData1.json\"\n",
    "jsonTrainFile2 = \"..\\\\Json\\\\espTrainData2.json\"\n",
    "jsonTrainFile3 = \"..\\\\Json\\\\espTrainData3.json\"\n",
    "\n",
    "jsonRefFile1 = \"..\\\\Json\\\\espRefData1.json\"\n",
    "jsonRefFile2 = \"..\\\\Json\\\\espRefData2.json\"\n",
    "jsonRefFile3 = \"..\\\\Json\\\\espRefData3.json\"\n",
    "\n",
    "n_mfcc = 13\n",
    "hop_length = 512\n",
    "n_fft= 2048\n",
    "\n",
    "clientesEntrenamiento = os.listdir(rutaEntrenamiento)\n",
    "clientesRefuerzo = os.listdir(rutaRefuerzo)"
   ]
  },
  {
   "cell_type": "code",
   "execution_count": 9,
   "metadata": {},
   "outputs": [
    {
     "name": "stdout",
     "output_type": "stream",
     "text": [
      "Una vez contados los audios de entrenamiento, hay 4500 audios de hombres y 3470 de mujeres\n",
      "Una vez contados los audios de refuerzo, hay 1110 audios de hombres y 1045 de mujeres\n"
     ]
    }
   ],
   "source": [
    "cantidadAudiosFinalesSexo(clientesEntrenamiento, rutaEntrenamiento, \"entrenamiento\")\n",
    "cantidadAudiosFinalesSexo(clientesRefuerzo, rutaRefuerzo, \"refuerzo\")"
   ]
  },
  {
   "cell_type": "code",
   "execution_count": 10,
   "metadata": {},
   "outputs": [
    {
     "name": "stdout",
     "output_type": "stream",
     "text": [
      "Diccionario creado\n",
      "Archivo json creado\n"
     ]
    }
   ],
   "source": [
    "# Primera parte de entrenamiento ( lo parto porque sino el json pesa demasiado para cargarlo en google colab)\n",
    "trainDict1 = extraerFeatures(clientesEntrenamiento[:int(len(clientesEntrenamiento)/3)], rutaEntrenamiento, inicioSignal, UN_SEGUNDO_SAMPLES, hop_length, n_mfcc, n_fft)\n",
    "crearJson(jsonTrainFile1, trainDict1)\n",
    "del trainDict1"
   ]
  },
  {
   "cell_type": "code",
   "execution_count": 11,
   "metadata": {},
   "outputs": [
    {
     "name": "stdout",
     "output_type": "stream",
     "text": [
      "Diccionario creado\n",
      "Archivo json creado\n"
     ]
    }
   ],
   "source": [
    "# Segunda parte entrenamiento\n",
    "trainDict2 = extraerFeatures(clientesEntrenamiento[int(len(clientesEntrenamiento)/3):(int(len(clientesEntrenamiento)/3)*2)], rutaEntrenamiento, inicioSignal, UN_SEGUNDO_SAMPLES, hop_length, n_mfcc, n_fft)\n",
    "crearJson(jsonTrainFile2, trainDict2)\n",
    "del trainDict2"
   ]
  },
  {
   "cell_type": "code",
   "execution_count": 12,
   "metadata": {},
   "outputs": [
    {
     "name": "stdout",
     "output_type": "stream",
     "text": [
      "Diccionario creado\n",
      "Archivo json creado\n"
     ]
    }
   ],
   "source": [
    "# Tercera parte entrenamiento\n",
    "trainDict3 = extraerFeatures(clientesEntrenamiento[(int(len(clientesEntrenamiento)/3)*2):], rutaEntrenamiento, inicioSignal, UN_SEGUNDO_SAMPLES, hop_length, n_mfcc, n_fft)\n",
    "crearJson(jsonTrainFile3, trainDict3)\n",
    "del trainDict3"
   ]
  },
  {
   "cell_type": "code",
   "execution_count": 13,
   "metadata": {},
   "outputs": [
    {
     "name": "stdout",
     "output_type": "stream",
     "text": [
      "Diccionario creado\n",
      "Archivo json creado\n"
     ]
    }
   ],
   "source": [
    "# Primera parte refuerzo\n",
    "refDict1 = extraerFeatures(clientesRefuerzo[:int(len(clientesRefuerzo)/3)], rutaRefuerzo, inicioSignal, UN_SEGUNDO_SAMPLES, hop_length, n_mfcc, n_fft)\n",
    "crearJson(jsonRefFile1, refDict1)\n",
    "del refDict1"
   ]
  },
  {
   "cell_type": "code",
   "execution_count": 14,
   "metadata": {},
   "outputs": [
    {
     "name": "stdout",
     "output_type": "stream",
     "text": [
      "Diccionario creado\n",
      "Archivo json creado\n"
     ]
    }
   ],
   "source": [
    "# Segunda parte refuerzo\n",
    "refDict2 = extraerFeatures(clientesRefuerzo[int(len(clientesRefuerzo)/3):(int(len(clientesRefuerzo)/3)*2)], rutaRefuerzo, inicioSignal, UN_SEGUNDO_SAMPLES, hop_length, n_mfcc, n_fft)\n",
    "crearJson(jsonRefFile2, refDict2)\n",
    "del refDict2"
   ]
  },
  {
   "cell_type": "code",
   "execution_count": 15,
   "metadata": {},
   "outputs": [
    {
     "name": "stdout",
     "output_type": "stream",
     "text": [
      "Diccionario creado\n",
      "Archivo json creado\n"
     ]
    }
   ],
   "source": [
    "# Tercera parte refuerzo\n",
    "refDict3 = extraerFeatures(clientesRefuerzo[(int(len(clientesRefuerzo)/3)*2):], rutaRefuerzo, inicioSignal, UN_SEGUNDO_SAMPLES, hop_length, n_mfcc, n_fft)\n",
    "crearJson(jsonRefFile3, refDict3)\n",
    "del refDict3"
   ]
  }
 ],
 "metadata": {
  "kernelspec": {
   "display_name": "base",
   "language": "python",
   "name": "python3"
  },
  "language_info": {
   "codemirror_mode": {
    "name": "ipython",
    "version": 3
   },
   "file_extension": ".py",
   "mimetype": "text/x-python",
   "name": "python",
   "nbconvert_exporter": "python",
   "pygments_lexer": "ipython3",
   "version": "3.9.7"
  },
  "orig_nbformat": 4,
  "vscode": {
   "interpreter": {
    "hash": "cf6e65efc42839d87504f180c8831290b4ff6352d8f31d813d252bc5307d2155"
   }
  }
 },
 "nbformat": 4,
 "nbformat_minor": 2
}
