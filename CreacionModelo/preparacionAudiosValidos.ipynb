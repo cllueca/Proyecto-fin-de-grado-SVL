{
 "cells": [
  {
   "cell_type": "code",
   "execution_count": 1,
   "metadata": {},
   "outputs": [],
   "source": [
    "import pandas as pd\n",
    "import os\n",
    "import shutil\n",
    "import random\n",
    "import numpy as np\n",
    "import math"
   ]
  },
  {
   "cell_type": "code",
   "execution_count": 2,
   "metadata": {},
   "outputs": [],
   "source": [
    "# Se cagan los tres archivos csv creados con el scipt anterior y se eliminan los registros duplicados\n",
    "# Se ha observado que muchos de ellos se repiten y el csv de test repite todos\n",
    "infoAudios = pd.concat([pd.read_csv(\"../csv/archivoTrain.csv\", header=0), pd.read_csv(\"../csv/archivoValidated.csv\", header=0), pd.read_csv(\"../csv/archivoTest.csv\", header=0)]).drop_duplicates()\n",
    "\n",
    "# Se definen las rutas de las que se extraen los audios y donde se van a almacenar los audios escogidos finalmente para usar con el modelo\n",
    "# Se ha observado que todos los audios en la carpeta de test ya se encuentran en la de entrenamiento, por lo que no se utilizará esa carpeta\n",
    "rutaOrigen = \"../audios/audiosEntrenamiento\"\n",
    "rutaDestinoEntrenamiento = \"../audios/seleccionEntrenamiento\"\n",
    "rutaDestinoRefuerzo = \"../audios/seleccionRefuerzo\""
   ]
  },
  {
   "cell_type": "code",
   "execution_count": 3,
   "metadata": {},
   "outputs": [],
   "source": [
    "# Condicion para que un cliente sea aceptado para entrenar el modelo\n",
    "cantidadAudiosPorCliente = 5"
   ]
  },
  {
   "cell_type": "code",
   "execution_count": 4,
   "metadata": {},
   "outputs": [],
   "source": [
    "def obtenerListaFinal(cantidadAudiosPorCliente, topeHombres, dataframe):\n",
    "    # Diccionario con los id de los diferentes clientes\n",
    "    idDict = {}\n",
    "    # Lista con los id de los clientes cuyos audios se utilizaran para entrenar el modelo\n",
    "    clientesValidos = []\n",
    "    # Lista con los id de los clientes cuyos audios se utilizaran para refuerzo\n",
    "    clientesRef = []\n",
    "\n",
    "    cantidadHombresTrain = 0\n",
    "    cantidadMujeresTrain = 0\n",
    "    cantidadHombresCortada = 0\n",
    "    cantidadHombresCortadaRef = 0\n",
    "    cantidadHombresRef = 0\n",
    "    cantidadMujeresRef = 0\n",
    "\n",
    "    # Por si quiero coger todos los hombres\n",
    "    if topeHombres == 0:\n",
    "        topeHombres = len(dataframe)\n",
    "\n",
    "    # Se cogen los diferentes id del dataframe\n",
    "    for ids in dataframe['client_id']:\n",
    "        if ids not in idDict:\n",
    "            idDict[ids] = 1\n",
    "        else:\n",
    "            idDict[ids] += 1\n",
    "\n",
    "    # Se recorren los id y para cada id se buscan sus audios\n",
    "    for client in idDict:\n",
    "        if idDict[client] >= cantidadAudiosPorCliente: # Si tiene mas de los especificados se añade a entrenamiento   >= minAudios and idDict[client] <= maxAudios:   #\n",
    "            \n",
    "            if dataframe.loc[dataframe['client_id'] == client]['gender'].iloc[0] == 'male':\n",
    "                cantidadHombresTrain+=1\n",
    "                if cantidadHombresTrain <= topeHombres: # se acorta para igualar mas la cantidad de hombres y mujeres\n",
    "                    clientesValidos.append((client, dataframe.loc[dataframe['client_id'] == client]))\n",
    "                    cantidadHombresCortada+=1\n",
    "            else:\n",
    "                cantidadMujeresTrain+=1\n",
    "                clientesValidos.append((client, dataframe.loc[dataframe['client_id'] == client]))\n",
    "\n",
    "        else: # Si no se añade a refuerzo\n",
    "            if dataframe.loc[dataframe['client_id'] == client]['gender'].iloc[0] == 'male':\n",
    "                cantidadHombresRef+=1\n",
    "                if cantidadHombresRef <= 600:\n",
    "                    clientesRef.append((client, dataframe.loc[dataframe['client_id'] == client]))\n",
    "                    cantidadHombresCortadaRef+=1\n",
    "            else:\n",
    "                cantidadMujeresRef+=1\n",
    "                clientesRef.append((client, dataframe.loc[dataframe['client_id'] == client]))\n",
    "\n",
    "\n",
    "    print(f'Se han escogido clientes con minimo {cantidadAudiosPorCliente} audios.\\n'+\n",
    "        f'De {len(idDict)} clientes posibles: \\n'+\n",
    "        f'- {cantidadHombresTrain} ({cantidadHombresCortada} seleccionados) hombres y {cantidadMujeresTrain} mujeres se utilizan para entrenar.\\n'+\n",
    "        f'- {cantidadHombresRef} ({cantidadHombresCortadaRef} seleccionados) hombres y {cantidadMujeresRef} mujeres son para refuerzo.')\n",
    "\n",
    "    return clientesValidos, clientesRef"
   ]
  },
  {
   "cell_type": "code",
   "execution_count": 9,
   "metadata": {},
   "outputs": [],
   "source": [
    "def crearCarpetas(clientesValidos, rutaDestino, rutaOrigen, cantidadAudiosPorCliente, contador):\n",
    "\n",
    "    for cliente in clientesValidos: # Se recorre la lista proporcionada\n",
    "        \n",
    "        if cliente[1]['gender'].iloc[0] == 'male': # Se comprueba si es hombre o mujer, para crear el nombre de la carpeta\n",
    "            nombreCarpeta = 'cli' + str(contador) + \"_H\"\n",
    "        else:\n",
    "            nombreCarpeta = 'cli' + str(contador) + \"_M\"\n",
    "\n",
    "        carpetaCliente = os.path.join(rutaDestino, nombreCarpeta)\n",
    "        os.mkdir(carpetaCliente) # Se crea la carpeta\n",
    "\n",
    "        # Si el cliente tiene mas audios de los establecidos se eligen aleatoriamente x audios (el valor de cantidadAudiosPorCliente)\n",
    "        # Pasa solamente cuando son audios de entrenamiento\n",
    "        if len(cliente[1]) >= cantidadAudiosPorCliente:\n",
    "            rnd = []\n",
    "            while len(rnd) != cantidadAudiosPorCliente:\n",
    "                rNum = random.randint(0, len(cliente[1])-1)\n",
    "                if rNum not in rnd:\n",
    "                    rnd.append(rNum)\n",
    "\n",
    "            for i in range(len(cliente[1])):\n",
    "                if i in rnd:\n",
    "                    shutil.copy(os.path.join(rutaOrigen, cliente[1]['path'].iloc[i]), os.path.join(carpetaCliente, cliente[1]['path'].iloc[i]))\n",
    "        else: # Si no, sera para refuerzo y se copian todos los audios del cliente\n",
    "            for archivo in cliente[1]['path']:\n",
    "                shutil.copy(os.path.join(rutaOrigen, archivo), os.path.join(carpetaCliente, archivo))\n",
    "\n",
    "        print(contador,end=\"\\r\")\n",
    "        contador += 1\n",
    "    \n",
    "    print(\"Carpetas creadas\")\n",
    "    return contador"
   ]
  },
  {
   "cell_type": "code",
   "execution_count": 10,
   "metadata": {},
   "outputs": [
    {
     "name": "stdout",
     "output_type": "stream",
     "text": [
      "Se han escogido clientes con minimo 5 audios.\n",
      "De 4172 clientes posibles: \n",
      "- 1637 (900 seleccionados) hombres y 694 mujeres se utilizan para entrenar.\n",
      "- 1377 (600 seleccionados) hombres y 464 mujeres son para refuerzo.\n",
      "Carpetas creadas\n",
      "Carpetas creadas\n"
     ]
    },
    {
     "data": {
      "text/plain": [
       "1065"
      ]
     },
     "execution_count": 10,
     "metadata": {},
     "output_type": "execute_result"
    }
   ],
   "source": [
    "clientesValidosEntrenamiento, clientesValidosRef = obtenerListaFinal(cantidadAudiosPorCliente, 900, infoAudios)\n",
    "crearCarpetas(clientesValidosEntrenamiento, rutaDestinoEntrenamiento, rutaOrigen, cantidadAudiosPorCliente, 1)\n",
    "crearCarpetas(clientesValidosRef, rutaDestinoRefuerzo, rutaOrigen, cantidadAudiosPorCliente, 1)"
   ]
  }
 ],
 "metadata": {
  "kernelspec": {
   "display_name": "base",
   "language": "python",
   "name": "python3"
  },
  "language_info": {
   "codemirror_mode": {
    "name": "ipython",
    "version": 3
   },
   "file_extension": ".py",
   "mimetype": "text/x-python",
   "name": "python",
   "nbconvert_exporter": "python",
   "pygments_lexer": "ipython3",
   "version": "3.9.7"
  },
  "orig_nbformat": 4,
  "vscode": {
   "interpreter": {
    "hash": "cf6e65efc42839d87504f180c8831290b4ff6352d8f31d813d252bc5307d2155"
   }
  }
 },
 "nbformat": 4,
 "nbformat_minor": 2
}
